{
 "cells": [
  {
   "cell_type": "code",
   "execution_count": 1,
   "metadata": {},
   "outputs": [],
   "source": [
    "import numpy as np"
   ]
  },
  {
   "cell_type": "code",
   "execution_count": 2,
   "metadata": {},
   "outputs": [],
   "source": [
    "HUMAN = 'X'\n",
    "ROBOT = 'O'\n",
    "NB_TO_WIN = 3"
   ]
  },
  {
   "cell_type": "code",
   "execution_count": 3,
   "metadata": {},
   "outputs": [],
   "source": [
    "def create_board(n):\n",
    "    return np.full((n,n), ' ')"
   ]
  },
  {
   "cell_type": "code",
   "execution_count": 4,
   "metadata": {},
   "outputs": [],
   "source": [
    "board = create_board(5)"
   ]
  },
  {
   "cell_type": "code",
   "execution_count": 27,
   "metadata": {},
   "outputs": [],
   "source": [
    "board1 = np.array([\n",
    "    [' ', 'X', ''],\n",
    "    [' ', 'X', 'O'],\n",
    "    ['', 'X', 'X']\n",
    "])"
   ]
  },
  {
   "cell_type": "code",
   "execution_count": 34,
   "metadata": {},
   "outputs": [],
   "source": [
    "def find_max_seq(seq, cible):\n",
    "    # retourne [debut, fin[\n",
    "    debut = 0\n",
    "    fin   = 0\n",
    "    debutMax = 0\n",
    "    finMax   = 0\n",
    "    \n",
    "    # tant qu'on est pas arrivé a la fin de la sequence\n",
    "    i = 0\n",
    "    while i < len(seq):\n",
    "        # lorsqu'on trouve l'élément recherché\n",
    "        if seq[i] == cible:\n",
    "            debut = i\n",
    "            # on parcour la sequence tant que la cible est bonne\n",
    "            while i < len(seq) and seq[i] == cible:\n",
    "                i += 1\n",
    "            fin = i\n",
    "            # Si la sequence \n",
    "            if fin - debut > finMax - debutMax:\n",
    "                finMax   = fin\n",
    "                debutMax = debut\n",
    "        i += 1\n",
    "    return finMax - debutMax\n",
    "            \n",
    "        "
   ]
  },
  {
   "cell_type": "code",
   "execution_count": 36,
   "metadata": {},
   "outputs": [
    {
     "data": {
      "text/plain": [
       "1"
      ]
     },
     "execution_count": 36,
     "metadata": {},
     "output_type": "execute_result"
    }
   ],
   "source": [
    "find_max_seq(board1[0], 'X')"
   ]
  },
  {
   "cell_type": "code",
   "execution_count": 37,
   "metadata": {},
   "outputs": [
    {
     "data": {
      "text/plain": [
       "array([[' ', 'X', ''],\n",
       "       [' ', 'X', 'O'],\n",
       "       ['', 'X', 'X']], dtype='<U1')"
      ]
     },
     "execution_count": 37,
     "metadata": {},
     "output_type": "execute_result"
    }
   ],
   "source": [
    "board1"
   ]
  },
  {
   "cell_type": "code",
   "execution_count": 38,
   "metadata": {},
   "outputs": [],
   "source": [
    "def eval_rows(board, cible):\n",
    "    max_seq = 0\n",
    "    for i in range(len(board)):\n",
    "        max_seq = max(max_seq, find_max_seq(board[i], cible))\n",
    "    return max_seq\n",
    "def eval_cols(board, cible):\n",
    "    max_seq = 0\n",
    "    for i in range(len(board)):\n",
    "        max_seq = max(max_seq, find_max_seq(board[:,i], cible))\n",
    "    return max_seq\n",
    "def eval_diag(board, cible):\n",
    "    #TODO faire autre que la diag centrale\n",
    "    diag1 = [(0,0),(1,1),(2,2)]\n",
    "    diag2 = [(0,2),(1,1),(2,0)]\n",
    "    nb_diag1 = find_max_seq([board[diag1[0]],board[diag1[1]],board[diag1[2]]], cible)\n",
    "    nb_diag2 = find_max_seq([board[diag2[0]],board[diag2[1]],board[diag2[2]]], cible)\n",
    "    return max(nb_diag1, nb_diag2)\n",
    "\n",
    "def eval_board(board, cible):\n",
    "    nb_rows = eval_rows(board, cible)\n",
    "    nb_cols = eval_cols(board, cible)\n",
    "    nb_diag = eval_diag(board, cible)\n",
    "    return max(nb_rows, nb_cols, nb_diag)"
   ]
  },
  {
   "cell_type": "code",
   "execution_count": 39,
   "metadata": {},
   "outputs": [
    {
     "data": {
      "text/plain": [
       "3"
      ]
     },
     "execution_count": 39,
     "metadata": {},
     "output_type": "execute_result"
    }
   ],
   "source": [
    "eval_board(board1, 'X')"
   ]
  },
  {
   "cell_type": "code",
   "execution_count": null,
   "metadata": {},
   "outputs": [],
   "source": []
  },
  {
   "cell_type": "code",
   "execution_count": null,
   "metadata": {},
   "outputs": [],
   "source": []
  },
  {
   "cell_type": "code",
   "execution_count": null,
   "metadata": {},
   "outputs": [],
   "source": []
  },
  {
   "cell_type": "code",
   "execution_count": null,
   "metadata": {},
   "outputs": [],
   "source": []
  }
 ],
 "metadata": {
  "kernelspec": {
   "display_name": "Python 3",
   "language": "python",
   "name": "python3"
  },
  "language_info": {
   "codemirror_mode": {
    "name": "ipython",
    "version": 3
   },
   "file_extension": ".py",
   "mimetype": "text/x-python",
   "name": "python",
   "nbconvert_exporter": "python",
   "pygments_lexer": "ipython3",
   "version": "3.6.9"
  }
 },
 "nbformat": 4,
 "nbformat_minor": 4
}
